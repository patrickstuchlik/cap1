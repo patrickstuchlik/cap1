{
  "nbformat": 4,
  "nbformat_minor": 0,
  "metadata": {
    "colab": {
      "name": "capstone1.ipynb",
      "version": "0.3.2",
      "provenance": []
    },
    "kernelspec": {
      "name": "python3",
      "display_name": "Python 3"
    }
  },
  "cells": [
    {
      "cell_type": "markdown",
      "metadata": {
        "id": "Inv4SH256mqN",
        "colab_type": "text"
      },
      "source": [
        "Briefly, our goal here is to model the association of life expectancy, as measured by the CDC, with several features of the built environment in each census tract in the city of Saint Louis, Missouri. We begin by reading in the data."
      ]
    },
    {
      "cell_type": "code",
      "metadata": {
        "id": "Zd-5UpORUaj1",
        "colab_type": "code",
        "colab": {
          "base_uri": "https://localhost:8080/",
          "height": 235
        },
        "outputId": "0646f9c9-24e0-4362-88a0-e67e7ff4f71c"
      },
      "source": [
        "url = 'https://github.com/patrickstuchlik/cap1/raw/master/elastic2.csv'\n",
        "import pandas as pd\n",
        "df = pd.read_csv(url)\n",
        "#df.head()\n",
        "df2 = df.set_index('GEOID')\n",
        "df2.head()"
      ],
      "execution_count": 102,
      "outputs": [
        {
          "output_type": "execute_result",
          "data": {
            "text/html": [
              "<div>\n",
              "<style scoped>\n",
              "    .dataframe tbody tr th:only-of-type {\n",
              "        vertical-align: middle;\n",
              "    }\n",
              "\n",
              "    .dataframe tbody tr th {\n",
              "        vertical-align: top;\n",
              "    }\n",
              "\n",
              "    .dataframe thead th {\n",
              "        text-align: right;\n",
              "    }\n",
              "</style>\n",
              "<table border=\"1\" class=\"dataframe\">\n",
              "  <thead>\n",
              "    <tr style=\"text-align: right;\">\n",
              "      <th></th>\n",
              "      <th>land_perc</th>\n",
              "      <th>food1</th>\n",
              "      <th>food2</th>\n",
              "      <th>life</th>\n",
              "      <th>mw</th>\n",
              "      <th>cg</th>\n",
              "      <th>metrolink</th>\n",
              "      <th>tract_area</th>\n",
              "      <th>bike_len</th>\n",
              "      <th>bike_cnt</th>\n",
              "      <th>park1</th>\n",
              "      <th>park2</th>\n",
              "      <th>park1ratio</th>\n",
              "      <th>park2ratio</th>\n",
              "      <th>walk</th>\n",
              "      <th>unins</th>\n",
              "    </tr>\n",
              "    <tr>\n",
              "      <th>GEOID</th>\n",
              "      <th></th>\n",
              "      <th></th>\n",
              "      <th></th>\n",
              "      <th></th>\n",
              "      <th></th>\n",
              "      <th></th>\n",
              "      <th></th>\n",
              "      <th></th>\n",
              "      <th></th>\n",
              "      <th></th>\n",
              "      <th></th>\n",
              "      <th></th>\n",
              "      <th></th>\n",
              "      <th></th>\n",
              "      <th></th>\n",
              "      <th></th>\n",
              "    </tr>\n",
              "  </thead>\n",
              "  <tbody>\n",
              "    <tr>\n",
              "      <th>29510106400</th>\n",
              "      <td>1.000000</td>\n",
              "      <td>0.000000</td>\n",
              "      <td>0.000000</td>\n",
              "      <td>69.9</td>\n",
              "      <td>1</td>\n",
              "      <td>0</td>\n",
              "      <td>0</td>\n",
              "      <td>1106529.051</td>\n",
              "      <td>855.237401</td>\n",
              "      <td>2</td>\n",
              "      <td>0.000</td>\n",
              "      <td>0.000</td>\n",
              "      <td>0.000000</td>\n",
              "      <td>0.000000</td>\n",
              "      <td>14.041750</td>\n",
              "      <td>27.0</td>\n",
              "    </tr>\n",
              "    <tr>\n",
              "      <th>29510125600</th>\n",
              "      <td>0.805083</td>\n",
              "      <td>0.000000</td>\n",
              "      <td>0.000000</td>\n",
              "      <td>73.2</td>\n",
              "      <td>3</td>\n",
              "      <td>0</td>\n",
              "      <td>4</td>\n",
              "      <td>2582190.793</td>\n",
              "      <td>12671.559820</td>\n",
              "      <td>25</td>\n",
              "      <td>39157.102</td>\n",
              "      <td>39157.102</td>\n",
              "      <td>0.015164</td>\n",
              "      <td>0.015164</td>\n",
              "      <td>18.777667</td>\n",
              "      <td>6.7</td>\n",
              "    </tr>\n",
              "    <tr>\n",
              "      <th>29510125700</th>\n",
              "      <td>0.857948</td>\n",
              "      <td>0.000331</td>\n",
              "      <td>0.000261</td>\n",
              "      <td>72.0</td>\n",
              "      <td>0</td>\n",
              "      <td>2</td>\n",
              "      <td>0</td>\n",
              "      <td>1486619.951</td>\n",
              "      <td>2922.391749</td>\n",
              "      <td>8</td>\n",
              "      <td>25647.334</td>\n",
              "      <td>25647.334</td>\n",
              "      <td>0.017252</td>\n",
              "      <td>0.017252</td>\n",
              "      <td>16.444667</td>\n",
              "      <td>18.2</td>\n",
              "    </tr>\n",
              "    <tr>\n",
              "      <th>29510123300</th>\n",
              "      <td>1.000000</td>\n",
              "      <td>0.453672</td>\n",
              "      <td>0.175716</td>\n",
              "      <td>76.2</td>\n",
              "      <td>0</td>\n",
              "      <td>0</td>\n",
              "      <td>0</td>\n",
              "      <td>918019.537</td>\n",
              "      <td>2305.878671</td>\n",
              "      <td>8</td>\n",
              "      <td>1650.961</td>\n",
              "      <td>1650.961</td>\n",
              "      <td>0.001798</td>\n",
              "      <td>0.001798</td>\n",
              "      <td>17.722000</td>\n",
              "      <td>8.7</td>\n",
              "    </tr>\n",
              "    <tr>\n",
              "      <th>29510124100</th>\n",
              "      <td>1.000000</td>\n",
              "      <td>0.000000</td>\n",
              "      <td>0.000000</td>\n",
              "      <td>67.8</td>\n",
              "      <td>9</td>\n",
              "      <td>1</td>\n",
              "      <td>0</td>\n",
              "      <td>1053137.860</td>\n",
              "      <td>1853.596805</td>\n",
              "      <td>6</td>\n",
              "      <td>0.000</td>\n",
              "      <td>0.000</td>\n",
              "      <td>0.000000</td>\n",
              "      <td>0.000000</td>\n",
              "      <td>13.833400</td>\n",
              "      <td>18.8</td>\n",
              "    </tr>\n",
              "  </tbody>\n",
              "</table>\n",
              "</div>"
            ],
            "text/plain": [
              "             land_perc     food1     food2  ...  park2ratio       walk  unins\n",
              "GEOID                                       ...                              \n",
              "29510106400   1.000000  0.000000  0.000000  ...    0.000000  14.041750   27.0\n",
              "29510125600   0.805083  0.000000  0.000000  ...    0.015164  18.777667    6.7\n",
              "29510125700   0.857948  0.000331  0.000261  ...    0.017252  16.444667   18.2\n",
              "29510123300   1.000000  0.453672  0.175716  ...    0.001798  17.722000    8.7\n",
              "29510124100   1.000000  0.000000  0.000000  ...    0.000000  13.833400   18.8\n",
              "\n",
              "[5 rows x 16 columns]"
            ]
          },
          "metadata": {
            "tags": []
          },
          "execution_count": 102
        }
      ]
    },
    {
      "cell_type": "markdown",
      "metadata": {
        "id": "2IhMlT1Q8Ss3",
        "colab_type": "text"
      },
      "source": [
        "A quick word about each of our measured variables:\n",
        "\n",
        "\n",
        "\n",
        "\n",
        "\n",
        "*   **'GEOID'** : the 11-digit FIPS code for each census tract\n",
        "*   **'land_perc'** : the percent of each census tract that GIS calculated to be land (i.e. not water)\n",
        "*   **'food1'** : a USDA calculated percentage of the total census tract with [low access to healthy food](https://www.ers.usda.gov/data-products/food-access-research-atlas/documentation/) within 1 mile\n",
        "* **'food2'** : similarly, the percentage of the low-income population in the census tract with low access to healthy food within 1 mile\n",
        "* **'life'** : [life expectancy](https://www.cdc.gov/nchs/nvss/usaleep/usaleep.html), in years, at birth for the census tract\n",
        "* **'mw'** : number of [milkweed gardens](https://www.stlouis-mo.gov/monarchs/) in each census tract, planted to encourage the monarch butterfly population\n",
        "* **'cg'** : number of [community gardens](http://www.gatewaygreening.org/resources/map-of-gardens/) in each census tract\n",
        "* **'metrolink'** : number of [Metrolink](https://www.metrostlouis.org/developer-resources/) (light rail) stations in each census tract\n",
        "* **'tract_area'** : area (units unclear due to GIS projection issues) of each census tract\n",
        "* **'bike_len'** : total length of [bike lanes](https://www.stlouis-mo.gov/government/departments/street/streets-sidewalks-traffic/bicycling/bike-routes-and-maps.cfm) for each census tract\n",
        "* **'bike_cnt'**: total segments of bike lanes for each census tract\n",
        "* **'park1'** : total area of [parks](https://www.stlouis-mo.gov/data/parks.cfm) in each census tract (for similar reasons, units unclear)\n",
        "* **'park1ratio'** : ratio of park1 / tract_area => the ratio of a census tract that is public parks\n",
        "* **'park2' , 'park2ratio'** : a different (and inferior) polygon intersection tool was used in GIS to compute these park areas, in the same schema as park1 and park1ratio\n",
        "* **'walk'** : National Walkability Index from the [EPA](https://www.epa.gov/smartgrowth/smart-location-mapping#walkability) Note that these scores are provided for census block groups, so these have been averaged over tracts here\n",
        "* **'unins'**: percentage of the adult non-institutionalized population without health insurance in each census tract, from [Census American FactFinder](https://factfinder.census.gov/faces/nav/jsf/pages/index.xhtml)\n",
        "\n",
        "\n"
      ]
    },
    {
      "cell_type": "code",
      "metadata": {
        "id": "Y_XWZwTxUiiy",
        "colab_type": "code",
        "colab": {}
      },
      "source": [
        "X = df2[['food1','mw','cg','metrolink','bike_len','park1','walk','unins']]\n",
        "y = df2['life']"
      ],
      "execution_count": 0,
      "outputs": []
    },
    {
      "cell_type": "markdown",
      "metadata": {
        "id": "gFKTorvuHPvL",
        "colab_type": "text"
      },
      "source": [
        "A brief inspection of the distribution of life expectancy over the 106 census tracts in the city of St. Louis:"
      ]
    },
    {
      "cell_type": "code",
      "metadata": {
        "id": "1T1gyUcRHXVA",
        "colab_type": "code",
        "colab": {
          "base_uri": "https://localhost:8080/",
          "height": 269
        },
        "outputId": "2bf783d5-a7a8-4290-8c44-3ee947fd178c"
      },
      "source": [
        "import matplotlib.pyplot as plt\n",
        "\n",
        "n, bins, patches = plt.hist(x=df2['life'], bins='auto', color='red', alpha=0.7, rwidth=0.85)"
      ],
      "execution_count": 112,
      "outputs": [
        {
          "output_type": "display_data",
          "data": {
            "image/png": "[encoded data removed]",
            "text/plain": [
              "<Figure size 432x288 with 1 Axes>"
            ]
          },
          "metadata": {
            "tags": []
          }
        }
      ]
    },
    {
      "cell_type": "markdown",
      "metadata": {
        "id": "YcL1R2kaCTlN",
        "colab_type": "text"
      },
      "source": [
        "For the following analyses, we will focus on ~ eight features of the built environment: healthy food access, milkweed gardens, community gardens, Metrolink stations, bike lanes, park area, Walkability, and percent uninsured, a proxy for socioeconomic status relevant to this health outcome measure. \n",
        "\n",
        "The below cell will give you a scatter matrix of the relationships of all variables with each other, but it's not too useful."
      ]
    },
    {
      "cell_type": "code",
      "metadata": {
        "id": "A_FS5dMCHv-K",
        "colab_type": "code",
        "colab": {}
      },
      "source": [
        "pd.plotting.scatter_matrix(X)"
      ],
      "execution_count": 0,
      "outputs": []
    },
    {
      "cell_type": "markdown",
      "metadata": {
        "id": "cLVsLjwQKqWf",
        "colab_type": "text"
      },
      "source": [
        "The below cell will provide the scatter plots of each of these eight features with life expectancy."
      ]
    },
    {
      "cell_type": "code",
      "metadata": {
        "id": "wCCLCkllJyY5",
        "colab_type": "code",
        "colab": {}
      },
      "source": [
        "cols = [col for col in X.columns]\n",
        "\n",
        "for col in cols:\n",
        "  df2.plot.scatter(x=col,y='life')"
      ],
      "execution_count": 0,
      "outputs": []
    },
    {
      "cell_type": "markdown",
      "metadata": {
        "id": "Gr_fNqSkKnF6",
        "colab_type": "text"
      },
      "source": [
        "Now that we have our X and y data, we will split the data into test and training sets for machine learning algorithms."
      ]
    },
    {
      "cell_type": "code",
      "metadata": {
        "id": "e-Yvi4yxUvRS",
        "colab_type": "code",
        "colab": {}
      },
      "source": [
        "from sklearn.model_selection import train_test_split\n",
        "X_train, X_test, y_train, y_test = train_test_split(X,y, test_size=0.3)"
      ],
      "execution_count": 0,
      "outputs": []
    },
    {
      "cell_type": "markdown",
      "metadata": {
        "id": "QkRB7hRwC6Xw",
        "colab_type": "text"
      },
      "source": [
        "We also imported a scaler to use in preprocessing in the event that our eventual model performs better with scaled data."
      ]
    },
    {
      "cell_type": "code",
      "metadata": {
        "id": "4TZ_GCHckI33",
        "colab_type": "code",
        "colab": {}
      },
      "source": [
        "from sklearn.preprocessing import StandardScaler\n",
        "scal = StandardScaler()\n",
        "X_train_scaled = scal.fit_transform(X_train)\n",
        "X_test_scaled = scal.fit_transform(X_test)"
      ],
      "execution_count": 0,
      "outputs": []
    },
    {
      "cell_type": "markdown",
      "metadata": {
        "id": "Fv30n0H5DIFq",
        "colab_type": "text"
      },
      "source": [
        "The next step was to test several models to have an idea which to pursue next. I tested a basic linear regression, along with lasso, elastic-net, and ridge linear models. I also tested a support vector machine regression (with radial basis function), as well as three ensemble models: random forest, gradient boosting, and extra trees regressions. The idea here is to collect the MSE for each basic model on the training data, and then choose the model with the best score performance."
      ]
    },
    {
      "cell_type": "code",
      "metadata": {
        "id": "eRwGP2BxU19N",
        "colab_type": "code",
        "colab": {
          "base_uri": "https://localhost:8080/",
          "height": 153
        },
        "outputId": "3b54a37d-2e8f-4ffb-80a1-17b0aec79ea9"
      },
      "source": [
        "#do the model checking\n",
        "from sklearn.linear_model import LinearRegression\n",
        "from sklearn.linear_model import Lasso\n",
        "from sklearn.linear_model import Ridge\n",
        "from sklearn.linear_model import ElasticNet\n",
        "from sklearn import svm\n",
        "from sklearn import ensemble\n",
        "from sklearn.model_selection import KFold\n",
        "from sklearn.model_selection import cross_val_score\n",
        "\n",
        "num_folds = 5\n",
        "scoring = \"neg_mean_squared_error\"\n",
        "#scoring = 'r2'\n",
        "\n",
        "models = []\n",
        "models.append(('LR', LinearRegression()))\n",
        "models.append(('LASSO', Lasso()))\n",
        "models.append(('RIDGE', Ridge() ))\n",
        "models.append(('EN', ElasticNet()))\n",
        "models.append(('SVR', svm.SVR(kernel='rbf',gamma='auto')))\n",
        "#models.append(('LINSVR', svm.LinearSVR()))\n",
        "models.append(('RFR', ensemble.RandomForestRegressor(n_estimators=100)))\n",
        "models.append(('GBR', ensemble.GradientBoostingRegressor(n_estimators=100)))\n",
        "models.append(('ETR', ensemble.ExtraTreesRegressor(n_estimators=100)))\n",
        "\n",
        "results = []\n",
        "names = []\n",
        "for name, model in models:\n",
        "    kfold = KFold(n_splits=num_folds, random_state=0)\n",
        "    cv_results = cross_val_score(model, X_train, y_train, cv=kfold,    scoring=scoring)\n",
        "    results.append(cv_results)\n",
        "    names.append(name)\n",
        "    msg = \"%s: %f (%f)\" % (name, cv_results.mean(),   cv_results.std())\n",
        "    print(msg)"
      ],
      "execution_count": 109,
      "outputs": [
        {
          "output_type": "stream",
          "text": [
            "LR: -22.269270 (11.958841)\n",
            "LASSO: -17.001607 (9.464251)\n",
            "RIDGE: -20.923408 (10.630806)\n",
            "EN: -17.092471 (9.226651)\n",
            "SVR: -20.698949 (11.546224)\n",
            "RFR: -19.723009 (11.762845)\n",
            "GBR: -28.946184 (16.273696)\n",
            "ETR: -20.592332 (11.135951)\n"
          ],
          "name": "stdout"
        }
      ]
    },
    {
      "cell_type": "markdown",
      "metadata": {
        "id": "49sHGU6YEAKX",
        "colab_type": "text"
      },
      "source": [
        "It appears the gradient boosting regression performs much better than the others (lower is better), but below I've visualized every model's MSE."
      ]
    },
    {
      "cell_type": "code",
      "metadata": {
        "id": "vHC9TpzHgwrj",
        "colab_type": "code",
        "colab": {
          "base_uri": "https://localhost:8080/",
          "height": 294
        },
        "outputId": "a7e034f1-5183-4036-c025-61151ae5c1dd"
      },
      "source": [
        "from matplotlib import pyplot\n",
        "\n",
        "fig = pyplot.figure()\n",
        "fig.suptitle('Algorithm Comparison')\n",
        "ax = fig.add_subplot(111)\n",
        "pyplot.boxplot(results)\n",
        "ax.set_xticklabels(names)\n",
        "pyplot.show()"
      ],
      "execution_count": 110,
      "outputs": [
        {
          "output_type": "display_data",
          "data": {
            "image/png": "[encoded data removed]",
            "text/plain": [
              "<Figure size 432x288 with 1 Axes>"
            ]
          },
          "metadata": {
            "tags": []
          }
        }
      ]
    },
    {
      "cell_type": "markdown",
      "metadata": {
        "id": "TUKrGvA2EhRz",
        "colab_type": "text"
      },
      "source": [
        "So I decided to pursue the gradient boosting regression model. The next step is to consider feature decomposition (since I have a small dataset for eight features), and then to tune the hyperparameters. Therefore, two of the following pipelines include PCA (an easy option for continuous features). All of these pipelines are fed into cross-validation grid searches.\n",
        "\n",
        "N.B. I made a mistake earlier in my analysis that suggested SVM may have had the best MSE. I've kept my code in this notebook to demonstrate another example of a grid search pipeline."
      ]
    },
    {
      "cell_type": "code",
      "metadata": {
        "id": "8XCOkso_qlzV",
        "colab_type": "code",
        "colab": {}
      },
      "source": [
        "from sklearn.pipeline import Pipeline\n",
        "from sklearn.decomposition import PCA\n"
      ],
      "execution_count": 0,
      "outputs": []
    },
    {
      "cell_type": "code",
      "metadata": {
        "id": "AexxephaQkcB",
        "colab_type": "code",
        "colab": {}
      },
      "source": [
        "est1 = [('reduce_dim', PCA()), ('svr', svm.SVR())]\n",
        "pipe1 = Pipeline(steps=est1)\n",
        "est2 = [('reduce_dim', PCA()), ('gbr', ensemble.GradientBoostingRegressor())]\n",
        "pipe2 = Pipeline(steps=est2)\n",
        "pipe3 = Pipeline(steps = [('gbr', ensemble.GradientBoostingRegressor())])"
      ],
      "execution_count": 0,
      "outputs": []
    },
    {
      "cell_type": "code",
      "metadata": {
        "id": "uu_tKQzHQd6m",
        "colab_type": "code",
        "colab": {}
      },
      "source": [
        "param_grid1 = dict(reduce_dim__n_components=[2,3,4,5], svr__C=[0.01, 0.1, 10, 100,1000], svr__gamma = [0.1,0.01])\n",
        "param_grid2 = dict(reduce_dim__n_components=[2,3,4], gbr__n_estimators=[5,10,40,50,60,100], gbr__learning_rate = [0.1,0.05,0.02,0.01,0.005],gbr__max_depth=[1,2,3,4],gbr__min_samples_leaf=[1,2])\n",
        "param_grid3 = dict(gbr__n_estimators=[2,5,10,25,50,100,200,500], gbr__learning_rate = [0.1,0.05,0.02,0.01,0.005],gbr__max_depth=[1,2,3,4],gbr__min_samples_split=[2,3],gbr__min_samples_leaf=[1,2])"
      ],
      "execution_count": 0,
      "outputs": []
    },
    {
      "cell_type": "code",
      "metadata": {
        "id": "hDo4fzw9UCVP",
        "colab_type": "code",
        "colab": {}
      },
      "source": [
        "from sklearn.model_selection import GridSearchCV\n",
        "gs1 = GridSearchCV(pipe1, param_grid=param_grid1, cv=5)\n",
        "gs2 = GridSearchCV(pipe2, param_grid=param_grid2, cv=5)\n",
        "gs3 = GridSearchCV(pipe3, param_grid=param_grid3, cv=5)"
      ],
      "execution_count": 0,
      "outputs": []
    },
    {
      "cell_type": "code",
      "metadata": {
        "id": "ElbZKa1OUpvC",
        "colab_type": "code",
        "colab": {
          "base_uri": "https://localhost:8080/",
          "height": 564
        },
        "outputId": "23110f62-23d7-413a-de0f-5d2bf9b1cd22"
      },
      "source": [
        "gs3.fit(X_train, y_train)"
      ],
      "execution_count": 106,
      "outputs": [
        {
          "output_type": "stream",
          "text": [
            "/usr/local/lib/python3.6/dist-packages/sklearn/model_selection/_search.py:813: DeprecationWarning: The default of the `iid` parameter will change from True to False in version 0.22 and will be removed in 0.24. This will change numeric results when test-set sizes are unequal.\n",
            "  DeprecationWarning)\n"
          ],
          "name": "stderr"
        },
        {
          "output_type": "execute_result",
          "data": {
            "text/plain": [
              "GridSearchCV(cv=5, error_score='raise-deprecating',\n",
              "             estimator=Pipeline(memory=None,\n",
              "                                steps=[('gbr',\n",
              "                                        GradientBoostingRegressor(alpha=0.9,\n",
              "                                                                  criterion='friedman_mse',\n",
              "                                                                  init=None,\n",
              "                                                                  learning_rate=0.1,\n",
              "                                                                  loss='ls',\n",
              "                                                                  max_depth=3,\n",
              "                                                                  max_features=None,\n",
              "                                                                  max_leaf_nodes=None,\n",
              "                                                                  min_impurity_decrease=0.0,\n",
              "                                                                  min_impurity_split=None,\n",
              "                                                                  min_samples_leaf=1,\n",
              "                                                                  min_samples_split=2,\n",
              "                                                                  min_weight_fracti...\n",
              "                                                                  validation_fraction=0.1,\n",
              "                                                                  verbose=0,\n",
              "                                                                  warm_start=False))],\n",
              "                                verbose=False),\n",
              "             iid='warn', n_jobs=None,\n",
              "             param_grid={'gbr__learning_rate': [0.1, 0.05, 0.02, 0.01, 0.005],\n",
              "                         'gbr__max_depth': [1, 2, 3, 4],\n",
              "                         'gbr__min_samples_leaf': [1, 2],\n",
              "                         'gbr__min_samples_split': [2, 3],\n",
              "                         'gbr__n_estimators': [2, 5, 10, 25, 50, 100, 200,\n",
              "                                               500]},\n",
              "             pre_dispatch='2*n_jobs', refit=True, return_train_score=False,\n",
              "             scoring=None, verbose=0)"
            ]
          },
          "metadata": {
            "tags": []
          },
          "execution_count": 106
        }
      ]
    },
    {
      "cell_type": "code",
      "metadata": {
        "id": "sWs6cRY1VAvu",
        "colab_type": "code",
        "colab": {
          "base_uri": "https://localhost:8080/",
          "height": 102
        },
        "outputId": "05309b1a-322d-442c-a823-d5ac18ab6781"
      },
      "source": [
        "gs3.best_params_"
      ],
      "execution_count": 107,
      "outputs": [
        {
          "output_type": "execute_result",
          "data": {
            "text/plain": [
              "{'gbr__learning_rate': 0.1,\n",
              " 'gbr__max_depth': 2,\n",
              " 'gbr__min_samples_leaf': 2,\n",
              " 'gbr__min_samples_split': 2,\n",
              " 'gbr__n_estimators': 5}"
            ]
          },
          "metadata": {
            "tags": []
          },
          "execution_count": 107
        }
      ]
    },
    {
      "cell_type": "code",
      "metadata": {
        "id": "tIUjYXMIVPyA",
        "colab_type": "code",
        "colab": {
          "base_uri": "https://localhost:8080/",
          "height": 34
        },
        "outputId": "23836c9b-e8e3-4537-d44b-029bf27a05a3"
      },
      "source": [
        "gs3.score(X,y)"
      ],
      "execution_count": 111,
      "outputs": [
        {
          "output_type": "execute_result",
          "data": {
            "text/plain": [
              "0.25784315428178284"
            ]
          },
          "metadata": {
            "tags": []
          },
          "execution_count": 111
        }
      ]
    },
    {
      "cell_type": "markdown",
      "metadata": {
        "id": "YTCvVmnuGn9q",
        "colab_type": "text"
      },
      "source": [
        "After comparing **gs2** (pipeline beginning with PCA) with **gs3** (no PCA),  the higher coefficient of determination occurred without PCA. This may be because gradient boosting regression already considers the number of features, somewhat obviating the need for PCA. "
      ]
    },
    {
      "cell_type": "code",
      "metadata": {
        "id": "msI_nTfoVSwb",
        "colab_type": "code",
        "colab": {
          "base_uri": "https://localhost:8080/",
          "height": 391
        },
        "outputId": "dd96d49a-9fa9-4de8-b9a2-24fe2a625723"
      },
      "source": [
        "gs3.predict(X)"
      ],
      "execution_count": 123,
      "outputs": [
        {
          "output_type": "execute_result",
          "data": {
            "text/plain": [
              "array([72.19784797, 74.21460327, 72.19784797, 73.75525195, 73.85886976,\n",
              "       73.85886976, 73.85886976, 73.98515214, 72.42774816, 73.98515214,\n",
              "       72.42774816, 72.19784797, 73.85886976, 73.98515214, 75.43368103,\n",
              "       72.19784797, 72.42774816, 75.43368103, 76.00420008, 72.19784797,\n",
              "       75.66313216, 75.66313216, 72.42774816, 73.85886976, 73.85886976,\n",
              "       72.19784797, 72.19784797, 72.19784797, 74.21460327, 73.85886976,\n",
              "       72.42774816, 72.42774816, 74.55567119, 72.19784797, 72.19784797,\n",
              "       74.21460327, 75.43368103, 76.00420008, 72.19784797, 72.19784797,\n",
              "       72.19784797, 72.19784797, 72.19784797, 72.42774816, 72.19784797,\n",
              "       72.19784797, 72.19784797, 72.19784797, 72.19784797, 72.19784797,\n",
              "       72.19784797, 72.19784797, 72.19784797, 73.85886976, 72.19784797,\n",
              "       75.20378084, 72.42774816, 72.19784797, 74.21460327, 75.66313216,\n",
              "       73.85886976, 72.19784797, 72.19784797, 72.19784797, 72.19784797,\n",
              "       73.85886976, 73.85886976, 73.98515214, 72.19784797, 72.19784797,\n",
              "       74.55567119, 73.85886976, 74.21460327, 74.21460327, 73.85886976,\n",
              "       73.75525195, 72.19784797, 72.19784797, 72.19784797, 72.19784797,\n",
              "       73.75525195, 72.42774816, 75.66313216, 72.42774816, 73.75525195,\n",
              "       72.19784797, 72.42774816, 73.85886976, 72.42774816, 74.21460327,\n",
              "       73.98515214, 72.19784797, 72.19784797, 73.85886976, 73.98515214,\n",
              "       73.85886976, 74.55567119, 72.19784797, 73.85886976, 73.75525195,\n",
              "       73.85886976, 72.42774816, 74.21460327, 73.85886976, 72.42774816,\n",
              "       74.21460327])"
            ]
          },
          "metadata": {
            "tags": []
          },
          "execution_count": 123
        }
      ]
    },
    {
      "cell_type": "markdown",
      "metadata": {
        "id": "r_WSneWrLNlW",
        "colab_type": "text"
      },
      "source": [
        "We can now plot the distribution of predicted life expectancies over the measured life expectancies."
      ]
    },
    {
      "cell_type": "code",
      "metadata": {
        "id": "Hllh_CFrVUmP",
        "colab_type": "code",
        "colab": {
          "base_uri": "https://localhost:8080/",
          "height": 269
        },
        "outputId": "bc16514e-dd09-4102-ba70-5fc1f20a81bf"
      },
      "source": [
        "import matplotlib.pyplot as plt\n",
        "\n",
        "n, bins, patches = plt.hist(x=df2['life'], bins='auto', color='red', alpha=0.7, rwidth=0.85)\n",
        "#n, bins, patches = plt.hist(x=clf.predict(X), bins='auto', color='blue', alpha=0.7, rwidth=0.85)\n",
        "#n, bins, patches = plt.hist(x=ridg.predict(X), bins='auto', color='green', alpha=0.7, rwidth=0.85)\n",
        "n, bins, patches = plt.hist(x=gs3.predict(X), bins='auto', color='blue', alpha=0.7, rwidth=0.85)"
      ],
      "execution_count": 125,
      "outputs": [
        {
          "output_type": "display_data",
          "data": {
            "image/png": "[encoded data removed]",
            "text/plain": [
              "<Figure size 432x288 with 1 Axes>"
            ]
          },
          "metadata": {
            "tags": []
          }
        }
      ]
    },
    {
      "cell_type": "markdown",
      "metadata": {
        "id": "tiGVnICuLio5",
        "colab_type": "text"
      },
      "source": [
        "This is consistent with R^2 = 0.25. Not too impressive, but we can have some confidence that the model is not overfit or underfit.\n",
        "\n",
        "For the fun of it, I also grossly overfit a model."
      ]
    },
    {
      "cell_type": "code",
      "metadata": {
        "id": "7FZV8N9B0NAp",
        "colab_type": "code",
        "colab": {
          "base_uri": "https://localhost:8080/",
          "height": 34
        },
        "outputId": "0b2a7f59-0716-4cbc-ed11-3f0e19f62e8f"
      },
      "source": [
        "gbr = ensemble.GradientBoostingRegressor(n_estimators=100, learning_rate=0.05,max_depth=4)\n",
        "gbr.fit(X_train,y_train)\n",
        "gbr.score(X,y)"
      ],
      "execution_count": 138,
      "outputs": [
        {
          "output_type": "execute_result",
          "data": {
            "text/plain": [
              "0.7700901306931786"
            ]
          },
          "metadata": {
            "tags": []
          },
          "execution_count": 138
        }
      ]
    },
    {
      "cell_type": "markdown",
      "metadata": {
        "id": "xdKKt4lGNvxL",
        "colab_type": "text"
      },
      "source": [
        "Of course, this model fits the data very well."
      ]
    },
    {
      "cell_type": "code",
      "metadata": {
        "id": "5SH9vsmRNQaa",
        "colab_type": "code",
        "colab": {
          "base_uri": "https://localhost:8080/",
          "height": 269
        },
        "outputId": "e19978cd-7588-499c-fccf-cd7433af506d"
      },
      "source": [
        "n, bins, patches = plt.hist(x=df2['life'], bins='auto', color='red', alpha=0.7, rwidth=0.85)\n",
        "#n, bins, patches = plt.hist(x=clf.predict(X), bins='auto', color='blue', alpha=0.7, rwidth=0.85)\n",
        "#n, bins, patches = plt.hist(x=ridg.predict(X), bins='auto', color='green', alpha=0.7, rwidth=0.85)\n",
        "n, bins, patches = plt.hist(x=gbr.predict(X), bins='auto', color='blue', alpha=0.7, rwidth=0.85)"
      ],
      "execution_count": 139,
      "outputs": [
        {
          "output_type": "display_data",
          "data": {
            "image/png": "[encoded data removed]",
            "text/plain": [
              "<Figure size 432x288 with 1 Axes>"
            ]
          },
          "metadata": {
            "tags": []
          }
        }
      ]
    },
    {
      "cell_type": "code",
      "metadata": {
        "id": "d-n_Y9dzNtPJ",
        "colab_type": "code",
        "colab": {}
      },
      "source": [
        "outp = gs3.predict(X)"
      ],
      "execution_count": 0,
      "outputs": []
    },
    {
      "cell_type": "code",
      "metadata": {
        "id": "CDLV4i1POtD0",
        "colab_type": "code",
        "colab": {}
      },
      "source": [
        "df3 = df2\n",
        "df3['outp'] = outp"
      ],
      "execution_count": 0,
      "outputs": []
    },
    {
      "cell_type": "code",
      "metadata": {
        "id": "xILt_lhsOwjU",
        "colab_type": "code",
        "colab": {
          "base_uri": "https://localhost:8080/",
          "height": 235
        },
        "outputId": "defc9f77-62bb-450c-d48e-337c251e3032"
      },
      "source": [
        "df3.head()"
      ],
      "execution_count": 142,
      "outputs": [
        {
          "output_type": "execute_result",
          "data": {
            "text/html": [
              "<div>\n",
              "<style scoped>\n",
              "    .dataframe tbody tr th:only-of-type {\n",
              "        vertical-align: middle;\n",
              "    }\n",
              "\n",
              "    .dataframe tbody tr th {\n",
              "        vertical-align: top;\n",
              "    }\n",
              "\n",
              "    .dataframe thead th {\n",
              "        text-align: right;\n",
              "    }\n",
              "</style>\n",
              "<table border=\"1\" class=\"dataframe\">\n",
              "  <thead>\n",
              "    <tr style=\"text-align: right;\">\n",
              "      <th></th>\n",
              "      <th>land_perc</th>\n",
              "      <th>food1</th>\n",
              "      <th>food2</th>\n",
              "      <th>life</th>\n",
              "      <th>mw</th>\n",
              "      <th>cg</th>\n",
              "      <th>metrolink</th>\n",
              "      <th>tract_area</th>\n",
              "      <th>bike_len</th>\n",
              "      <th>bike_cnt</th>\n",
              "      <th>park1</th>\n",
              "      <th>park2</th>\n",
              "      <th>park1ratio</th>\n",
              "      <th>park2ratio</th>\n",
              "      <th>walk</th>\n",
              "      <th>unins</th>\n",
              "      <th>outp</th>\n",
              "    </tr>\n",
              "    <tr>\n",
              "      <th>GEOID</th>\n",
              "      <th></th>\n",
              "      <th></th>\n",
              "      <th></th>\n",
              "      <th></th>\n",
              "      <th></th>\n",
              "      <th></th>\n",
              "      <th></th>\n",
              "      <th></th>\n",
              "      <th></th>\n",
              "      <th></th>\n",
              "      <th></th>\n",
              "      <th></th>\n",
              "      <th></th>\n",
              "      <th></th>\n",
              "      <th></th>\n",
              "      <th></th>\n",
              "      <th></th>\n",
              "    </tr>\n",
              "  </thead>\n",
              "  <tbody>\n",
              "    <tr>\n",
              "      <th>29510106400</th>\n",
              "      <td>1.000000</td>\n",
              "      <td>0.000000</td>\n",
              "      <td>0.000000</td>\n",
              "      <td>69.9</td>\n",
              "      <td>1</td>\n",
              "      <td>0</td>\n",
              "      <td>0</td>\n",
              "      <td>1106529.051</td>\n",
              "      <td>855.237401</td>\n",
              "      <td>2</td>\n",
              "      <td>0.000</td>\n",
              "      <td>0.000</td>\n",
              "      <td>0.000000</td>\n",
              "      <td>0.000000</td>\n",
              "      <td>14.041750</td>\n",
              "      <td>27.0</td>\n",
              "      <td>72.197848</td>\n",
              "    </tr>\n",
              "    <tr>\n",
              "      <th>29510125600</th>\n",
              "      <td>0.805083</td>\n",
              "      <td>0.000000</td>\n",
              "      <td>0.000000</td>\n",
              "      <td>73.2</td>\n",
              "      <td>3</td>\n",
              "      <td>0</td>\n",
              "      <td>4</td>\n",
              "      <td>2582190.793</td>\n",
              "      <td>12671.559820</td>\n",
              "      <td>25</td>\n",
              "      <td>39157.102</td>\n",
              "      <td>39157.102</td>\n",
              "      <td>0.015164</td>\n",
              "      <td>0.015164</td>\n",
              "      <td>18.777667</td>\n",
              "      <td>6.7</td>\n",
              "      <td>74.214603</td>\n",
              "    </tr>\n",
              "    <tr>\n",
              "      <th>29510125700</th>\n",
              "      <td>0.857948</td>\n",
              "      <td>0.000331</td>\n",
              "      <td>0.000261</td>\n",
              "      <td>72.0</td>\n",
              "      <td>0</td>\n",
              "      <td>2</td>\n",
              "      <td>0</td>\n",
              "      <td>1486619.951</td>\n",
              "      <td>2922.391749</td>\n",
              "      <td>8</td>\n",
              "      <td>25647.334</td>\n",
              "      <td>25647.334</td>\n",
              "      <td>0.017252</td>\n",
              "      <td>0.017252</td>\n",
              "      <td>16.444667</td>\n",
              "      <td>18.2</td>\n",
              "      <td>72.197848</td>\n",
              "    </tr>\n",
              "    <tr>\n",
              "      <th>29510123300</th>\n",
              "      <td>1.000000</td>\n",
              "      <td>0.453672</td>\n",
              "      <td>0.175716</td>\n",
              "      <td>76.2</td>\n",
              "      <td>0</td>\n",
              "      <td>0</td>\n",
              "      <td>0</td>\n",
              "      <td>918019.537</td>\n",
              "      <td>2305.878671</td>\n",
              "      <td>8</td>\n",
              "      <td>1650.961</td>\n",
              "      <td>1650.961</td>\n",
              "      <td>0.001798</td>\n",
              "      <td>0.001798</td>\n",
              "      <td>17.722000</td>\n",
              "      <td>8.7</td>\n",
              "      <td>73.755252</td>\n",
              "    </tr>\n",
              "    <tr>\n",
              "      <th>29510124100</th>\n",
              "      <td>1.000000</td>\n",
              "      <td>0.000000</td>\n",
              "      <td>0.000000</td>\n",
              "      <td>67.8</td>\n",
              "      <td>9</td>\n",
              "      <td>1</td>\n",
              "      <td>0</td>\n",
              "      <td>1053137.860</td>\n",
              "      <td>1853.596805</td>\n",
              "      <td>6</td>\n",
              "      <td>0.000</td>\n",
              "      <td>0.000</td>\n",
              "      <td>0.000000</td>\n",
              "      <td>0.000000</td>\n",
              "      <td>13.833400</td>\n",
              "      <td>18.8</td>\n",
              "      <td>73.858870</td>\n",
              "    </tr>\n",
              "  </tbody>\n",
              "</table>\n",
              "</div>"
            ],
            "text/plain": [
              "             land_perc     food1     food2  ...       walk  unins       outp\n",
              "GEOID                                       ...                             \n",
              "29510106400   1.000000  0.000000  0.000000  ...  14.041750   27.0  72.197848\n",
              "29510125600   0.805083  0.000000  0.000000  ...  18.777667    6.7  74.214603\n",
              "29510125700   0.857948  0.000331  0.000261  ...  16.444667   18.2  72.197848\n",
              "29510123300   1.000000  0.453672  0.175716  ...  17.722000    8.7  73.755252\n",
              "29510124100   1.000000  0.000000  0.000000  ...  13.833400   18.8  73.858870\n",
              "\n",
              "[5 rows x 17 columns]"
            ]
          },
          "metadata": {
            "tags": []
          },
          "execution_count": 142
        }
      ]
    },
    {
      "cell_type": "code",
      "metadata": {
        "id": "vACo6HcVOxvB",
        "colab_type": "code",
        "colab": {}
      },
      "source": [
        "from google.colab import files\n",
        "df3.to_csv('outp.csv') \n",
        "files.download('outp.csv')"
      ],
      "execution_count": 0,
      "outputs": []
    }
  ]
}